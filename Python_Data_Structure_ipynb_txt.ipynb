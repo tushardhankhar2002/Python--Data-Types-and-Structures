{
  "cells": [
    {
      "cell_type": "markdown",
      "source": [
        "# **Data Types and Structures – Theory Answers**"
      ],
      "metadata": {
        "id": "0sQQ5XGwILh_"
      },
      "id": "0sQQ5XGwILh_"
    },
    {
      "cell_type": "markdown",
      "id": "de157fcc",
      "metadata": {
        "id": "de157fcc"
      },
      "source": [
        "### 1. What are data structures, and why are they important?\n",
        "Data structures are specialized formats for organizing, processing, and storing data. They are essential because they allow efficient access, modification, and management of data in programming."
      ]
    },
    {
      "cell_type": "markdown",
      "id": "3225fd71",
      "metadata": {
        "id": "3225fd71"
      },
      "source": [
        "### 2. Explain the difference between mutable and immutable data types with examples.\n",
        "- **Mutable:** Can be changed after creation (e.g., `list`, `dict`).  \n",
        "  Example: `my_list = [1, 2]; my_list.append(3)`\n",
        "- **Immutable:** Cannot be changed after creation (e.g., `str`, `tuple`).  \n",
        "  Example: `text = \"hello\"; text[0] = \"H\"` → Error"
      ]
    },
    {
      "cell_type": "markdown",
      "id": "ba1ae5f7",
      "metadata": {
        "id": "ba1ae5f7"
      },
      "source": [
        "### 3. What are the main differences between lists and tuples in Python?\n",
        "- Lists are mutable, slower, and use square brackets `[]`.  \n",
        "- Tuples are immutable, faster, and use parentheses `()`."
      ]
    },
    {
      "cell_type": "markdown",
      "id": "5c3808ae",
      "metadata": {
        "id": "5c3808ae"
      },
      "source": [
        "### 4. Describe how dictionaries store data.\n",
        "Dictionaries store data as key-value pairs using a hash table, which allows for fast retrieval based on the key."
      ]
    },
    {
      "cell_type": "markdown",
      "id": "69894f5c",
      "metadata": {
        "id": "69894f5c"
      },
      "source": [
        "### 5. Why might you use a set instead of a list in Python?\n",
        "Sets automatically remove duplicate elements and provide faster membership testing compared to lists."
      ]
    },
    {
      "cell_type": "markdown",
      "id": "e335d86d",
      "metadata": {
        "id": "e335d86d"
      },
      "source": [
        "### 6. What is a string in Python, and how is it different from a list?\n",
        "A string is an immutable sequence of characters, while a list is a mutable sequence of elements (which can be of any type)."
      ]
    },
    {
      "cell_type": "markdown",
      "id": "6c1606cc",
      "metadata": {
        "id": "6c1606cc"
      },
      "source": [
        "### 7. How do tuples ensure data integrity in Python?\n",
        "Tuples are immutable, which means their contents cannot be altered after creation, ensuring the integrity of fixed data sets."
      ]
    },
    {
      "cell_type": "markdown",
      "id": "02d19e65",
      "metadata": {
        "id": "02d19e65"
      },
      "source": [
        "### 8. What is a hash table, and how does it relate to dictionaries in Python?\n",
        "A hash table is a data structure that stores key-value pairs using a hash function to compute the index for each key. Python dictionaries are implemented using hash tables."
      ]
    },
    {
      "cell_type": "markdown",
      "id": "388e3ed2",
      "metadata": {
        "id": "388e3ed2"
      },
      "source": [
        "### 9. Can lists contain different data types in Python?\n",
        "Yes, Python lists can contain elements of varying data types such as integers, strings, lists, etc."
      ]
    },
    {
      "cell_type": "markdown",
      "id": "10a94894",
      "metadata": {
        "id": "10a94894"
      },
      "source": [
        "### 10. Explain why strings are immutable in Python.\n",
        "Strings are immutable to improve performance, enable thread safety, and ensure hash consistency (useful for using strings as dictionary keys)."
      ]
    },
    {
      "cell_type": "markdown",
      "id": "2d389099",
      "metadata": {
        "id": "2d389099"
      },
      "source": [
        "### 11. What advantages do dictionaries offer over lists for certain tasks?\n",
        "Dictionaries allow fast lookups and access by key, making them ideal for tasks involving labeled data, unlike lists which rely on index-based access."
      ]
    },
    {
      "cell_type": "markdown",
      "id": "d3423798",
      "metadata": {
        "id": "d3423798"
      },
      "source": [
        "### 12. Describe a scenario where using a tuple would be preferable over a list.\n",
        "Tuples are ideal when storing constant data like coordinates (`(x, y)`) or configuration settings that should not be modified."
      ]
    },
    {
      "cell_type": "markdown",
      "id": "6c894908",
      "metadata": {
        "id": "6c894908"
      },
      "source": [
        "### 13. How do sets handle duplicate values in Python?\n",
        "Sets automatically discard any duplicate values and only retain unique elements."
      ]
    },
    {
      "cell_type": "markdown",
      "id": "038d2bcd",
      "metadata": {
        "id": "038d2bcd"
      },
      "source": [
        "### 14. How does the “in” keyword work differently for lists and dictionaries?\n",
        "- In a list: Checks if a value exists.  \n",
        "- In a dictionary: Checks if a key exists."
      ]
    },
    {
      "cell_type": "markdown",
      "id": "8c304222",
      "metadata": {
        "id": "8c304222"
      },
      "source": [
        "### 15. Can you modify the elements of a tuple? Explain why or why not.\n",
        "No, tuples are immutable, meaning their elements cannot be added, removed, or changed after creation."
      ]
    },
    {
      "cell_type": "markdown",
      "id": "de081208",
      "metadata": {
        "id": "de081208"
      },
      "source": [
        "### 16. What is a nested dictionary, and give an example of its use case.\n",
        "A nested dictionary contains another dictionary as a value.  \n",
        "Example: `{\"student\": {\"name\": \"Alice\", \"age\": 20}}`  \n",
        "Use case: Representing complex data like user profiles or JSON objects."
      ]
    },
    {
      "cell_type": "markdown",
      "id": "2f7c7751",
      "metadata": {
        "id": "2f7c7751"
      },
      "source": [
        "### 17. Describe the time complexity of accessing elements in a dictionary.\n",
        "On average, dictionary access has a time complexity of **O(1)** due to hash-based indexing."
      ]
    },
    {
      "cell_type": "markdown",
      "id": "b7c2d457",
      "metadata": {
        "id": "b7c2d457"
      },
      "source": [
        "### 18. In what situations are lists preferred over dictionaries?\n",
        "When order is important, or when data does not require unique identifiers/keys—like a sequence of items or records."
      ]
    },
    {
      "cell_type": "markdown",
      "id": "b1cc97fb",
      "metadata": {
        "id": "b1cc97fb"
      },
      "source": [
        "### 19. Why are dictionaries considered unordered, and how does that affect data retrieval?\n",
        "Prior to Python 3.7, dictionaries didn’t maintain insertion order. Even now, their primary access mechanism is by key, not position, which affects iteration and retrieval if order matters."
      ]
    },
    {
      "cell_type": "markdown",
      "id": "645b3439",
      "metadata": {
        "id": "645b3439"
      },
      "source": [
        "### 20. Explain the difference between a list and a dictionary in terms of data retrieval.\n",
        "- **List:** Access via numerical index (`list[0]`)  \n",
        "- **Dictionary:** Access via key (`dict[\"name\"]`)"
      ]
    },
    {
      "cell_type": "markdown",
      "source": [
        "# **Practical Questions – Python Code**"
      ],
      "metadata": {
        "id": "TN6QOWU7IS7K"
      },
      "id": "TN6QOWU7IS7K"
    },
    {
      "cell_type": "code",
      "execution_count": 1,
      "id": "302589c3",
      "metadata": {
        "colab": {
          "base_uri": "https://localhost:8080/"
        },
        "id": "302589c3",
        "outputId": "6f8599c3-389a-4896-bb28-91a4643e24de"
      },
      "outputs": [
        {
          "output_type": "stream",
          "name": "stdout",
          "text": [
            "Tushar Dhankhar\n"
          ]
        }
      ],
      "source": [
        "# 1. Create a string with your name and print it\n",
        "name = \"Tushar Dhankhar\"\n",
        "print(name)"
      ]
    },
    {
      "cell_type": "code",
      "execution_count": null,
      "id": "46e8646f",
      "metadata": {
        "colab": {
          "base_uri": "https://localhost:8080/"
        },
        "id": "46e8646f",
        "outputId": "686489f4-d29b-4119-87c0-97abf8b8d956"
      },
      "outputs": [
        {
          "output_type": "stream",
          "name": "stdout",
          "text": [
            "11\n"
          ]
        }
      ],
      "source": [
        "# 2. Find the length of the string \"Hello World\"\n",
        "print(len(\"Hello World\"))"
      ]
    },
    {
      "cell_type": "code",
      "execution_count": null,
      "id": "accb6b6e",
      "metadata": {
        "colab": {
          "base_uri": "https://localhost:8080/"
        },
        "id": "accb6b6e",
        "outputId": "b2b91028-b46d-4571-86a5-a89dff583b4d"
      },
      "outputs": [
        {
          "output_type": "stream",
          "name": "stdout",
          "text": [
            "Pyt\n"
          ]
        }
      ],
      "source": [
        "# 3. Slice the first 3 characters from the string \"Python Programming\"\n",
        "print(\"Python Programming\"[:3])"
      ]
    },
    {
      "cell_type": "code",
      "execution_count": null,
      "id": "5de636dc",
      "metadata": {
        "colab": {
          "base_uri": "https://localhost:8080/"
        },
        "id": "5de636dc",
        "outputId": "1f6663c8-3589-4df5-9484-9dfaba4453b2"
      },
      "outputs": [
        {
          "output_type": "stream",
          "name": "stdout",
          "text": [
            "HELLO\n"
          ]
        }
      ],
      "source": [
        "# 4. Convert the string \"hello\" to uppercase\n",
        "print(\"hello\".upper())"
      ]
    },
    {
      "cell_type": "code",
      "execution_count": null,
      "id": "ffb13278",
      "metadata": {
        "colab": {
          "base_uri": "https://localhost:8080/"
        },
        "id": "ffb13278",
        "outputId": "364ca228-a78d-40f7-f9ed-2dc37d40b509"
      },
      "outputs": [
        {
          "output_type": "stream",
          "name": "stdout",
          "text": [
            "I like orange\n"
          ]
        }
      ],
      "source": [
        "# 5. Replace the word \"apple\" with \"orange\" in the string \"I like apple\"\n",
        "print(\"I like apple\".replace(\"apple\", \"orange\"))"
      ]
    },
    {
      "cell_type": "code",
      "execution_count": null,
      "id": "e03f20b2",
      "metadata": {
        "colab": {
          "base_uri": "https://localhost:8080/"
        },
        "id": "e03f20b2",
        "outputId": "45b2e6ce-2f85-49bd-b5b0-a8a17050d7d8"
      },
      "outputs": [
        {
          "output_type": "stream",
          "name": "stdout",
          "text": [
            "[1, 2, 3, 4, 5]\n"
          ]
        }
      ],
      "source": [
        "# 6. Create a list with numbers 1 to 5 and print it\n",
        "numbers = [1, 2, 3, 4, 5]\n",
        "print(numbers)"
      ]
    },
    {
      "cell_type": "code",
      "execution_count": null,
      "id": "e23e099a",
      "metadata": {
        "colab": {
          "base_uri": "https://localhost:8080/"
        },
        "id": "e23e099a",
        "outputId": "baaa0eef-14ff-41af-dc37-e70f3185e560"
      },
      "outputs": [
        {
          "output_type": "stream",
          "name": "stdout",
          "text": [
            "[1, 2, 3, 4, 10]\n"
          ]
        }
      ],
      "source": [
        "# 7. Append the number 10 to the list [1, 2, 3, 4]\n",
        "lst = [1, 2, 3, 4]\n",
        "lst.append(10)\n",
        "print(lst)"
      ]
    },
    {
      "cell_type": "code",
      "execution_count": null,
      "id": "3ca4c3ba",
      "metadata": {
        "colab": {
          "base_uri": "https://localhost:8080/"
        },
        "id": "3ca4c3ba",
        "outputId": "31796ee8-6410-4ec6-aebc-7fd2a7676cf3"
      },
      "outputs": [
        {
          "output_type": "stream",
          "name": "stdout",
          "text": [
            "[1, 2, 4, 5]\n"
          ]
        }
      ],
      "source": [
        "# 8. Remove the number 3 from the list [1, 2, 3, 4, 5]\n",
        "lst = [1, 2, 3, 4, 5]\n",
        "lst.remove(3)\n",
        "print(lst)"
      ]
    },
    {
      "cell_type": "code",
      "execution_count": null,
      "id": "99515b47",
      "metadata": {
        "colab": {
          "base_uri": "https://localhost:8080/"
        },
        "id": "99515b47",
        "outputId": "db4e99d8-e309-49cf-c23c-c8188bd0fc24"
      },
      "outputs": [
        {
          "output_type": "stream",
          "name": "stdout",
          "text": [
            "b\n"
          ]
        }
      ],
      "source": [
        "# 9. Access the second element in the list ['a', 'b', 'c', 'd']\n",
        "list = ['a', 'b', 'c', 'd']\n",
        "print(list[1])"
      ]
    },
    {
      "cell_type": "code",
      "execution_count": null,
      "id": "1e42747c",
      "metadata": {
        "colab": {
          "base_uri": "https://localhost:8080/"
        },
        "id": "1e42747c",
        "outputId": "3d7c34f3-cdfd-4a5a-aaa2-552626c4cc48"
      },
      "outputs": [
        {
          "output_type": "stream",
          "name": "stdout",
          "text": [
            "[50, 40, 30, 20, 10]\n"
          ]
        }
      ],
      "source": [
        "# 10. Reverse the list [10, 20, 30, 40, 50]\n",
        "list = [10, 20, 30, 40, 50]\n",
        "list.reverse()\n",
        "print(list)"
      ]
    },
    {
      "cell_type": "code",
      "execution_count": null,
      "id": "b72d4f8f",
      "metadata": {
        "colab": {
          "base_uri": "https://localhost:8080/"
        },
        "id": "b72d4f8f",
        "outputId": "23f18f29-787a-4278-91a8-d3a25b7a2441"
      },
      "outputs": [
        {
          "output_type": "stream",
          "name": "stdout",
          "text": [
            "(100, 200, 300)\n"
          ]
        }
      ],
      "source": [
        "# 11. Create a tuple with the elements 100, 200, 300 and print it\n",
        "t = (100, 200, 300)\n",
        "print(t)"
      ]
    },
    {
      "cell_type": "code",
      "execution_count": null,
      "id": "00f8be12",
      "metadata": {
        "colab": {
          "base_uri": "https://localhost:8080/"
        },
        "id": "00f8be12",
        "outputId": "1fc8131f-7a2d-4374-8e37-59a5ec266069"
      },
      "outputs": [
        {
          "output_type": "stream",
          "name": "stdout",
          "text": [
            "blue\n"
          ]
        }
      ],
      "source": [
        "# 12. Access the second-to-last element of the tuple ('red', 'green', 'blue', 'yellow')\n",
        "colors = ('red', 'green', 'blue', 'yellow')\n",
        "print(colors[-2])"
      ]
    },
    {
      "cell_type": "code",
      "execution_count": null,
      "id": "68a03dd3",
      "metadata": {
        "colab": {
          "base_uri": "https://localhost:8080/"
        },
        "id": "68a03dd3",
        "outputId": "b3cc4250-8961-4767-e987-629883b206df"
      },
      "outputs": [
        {
          "output_type": "stream",
          "name": "stdout",
          "text": [
            "5\n"
          ]
        }
      ],
      "source": [
        "# 13. Find the minimum number in the tuple (10, 20, 5, 15)\n",
        "t = (10, 20, 5, 15)\n",
        "print(min(t))"
      ]
    },
    {
      "cell_type": "code",
      "execution_count": null,
      "id": "de9f3659",
      "metadata": {
        "colab": {
          "base_uri": "https://localhost:8080/"
        },
        "id": "de9f3659",
        "outputId": "c2cac836-a52e-428e-f942-3c93d4ae4c20"
      },
      "outputs": [
        {
          "output_type": "stream",
          "name": "stdout",
          "text": [
            "1\n"
          ]
        }
      ],
      "source": [
        "# 14. Find the index of the element \"cat\" in the tuple ('dog', 'cat', 'rabbit')\n",
        "t = ('dog', 'cat', 'rabbit')\n",
        "print(t.index(\"cat\"))\n"
      ]
    },
    {
      "cell_type": "code",
      "execution_count": null,
      "id": "247d3e57",
      "metadata": {
        "colab": {
          "base_uri": "https://localhost:8080/"
        },
        "id": "247d3e57",
        "outputId": "3275b58e-9c77-45bf-f8c8-b68f995ee4f8"
      },
      "outputs": [
        {
          "output_type": "stream",
          "name": "stdout",
          "text": [
            "kiwi is not in the tuple\n"
          ]
        }
      ],
      "source": [
        "# 15. Create a tuple with fruits and check if \"kiwi\" is in it\n",
        "fruits = ('apple', 'banana', 'orange')\n",
        "if \"kiwi\" in fruits:\n",
        "    print(\"kiwi is in the tuple\")\n",
        "else:\n",
        "    print(\"kiwi is not in the tuple\")"
      ]
    },
    {
      "cell_type": "code",
      "execution_count": null,
      "id": "5404e453",
      "metadata": {
        "colab": {
          "base_uri": "https://localhost:8080/"
        },
        "id": "5404e453",
        "outputId": "4874f0bd-09d6-4c32-f64d-aba4e3700c5e"
      },
      "outputs": [
        {
          "output_type": "stream",
          "name": "stdout",
          "text": [
            "{'a', 'b', 'c'}\n"
          ]
        }
      ],
      "source": [
        "# 16. Create a set with the elements 'a', 'b', 'c' and print it\n",
        "s = {'a', 'b', 'c'}\n",
        "print(s)"
      ]
    },
    {
      "cell_type": "code",
      "execution_count": null,
      "id": "da23e164",
      "metadata": {
        "colab": {
          "base_uri": "https://localhost:8080/"
        },
        "id": "da23e164",
        "outputId": "f1cf296c-97db-4fbd-9557-223cc7939772"
      },
      "outputs": [
        {
          "output_type": "stream",
          "name": "stdout",
          "text": [
            "set()\n"
          ]
        }
      ],
      "source": [
        "# 17. Clear all elements from the set {1, 2, 3, 4, 5}\n",
        "s = {1, 2, 3, 4, 5}\n",
        "s.clear()\n",
        "print(s)"
      ]
    },
    {
      "cell_type": "code",
      "execution_count": null,
      "id": "014b0c2f",
      "metadata": {
        "colab": {
          "base_uri": "https://localhost:8080/"
        },
        "id": "014b0c2f",
        "outputId": "d04272fa-905a-4f8d-c83d-3b643ff9a938"
      },
      "outputs": [
        {
          "output_type": "stream",
          "name": "stdout",
          "text": [
            "{1, 2, 3}\n"
          ]
        }
      ],
      "source": [
        "# 18. Remove the element 4 from the set {1, 2, 3, 4}\n",
        "s = {1, 2, 3, 4}\n",
        "s.remove(4)\n",
        "print(s)"
      ]
    },
    {
      "cell_type": "code",
      "execution_count": null,
      "id": "10ea0d51",
      "metadata": {
        "colab": {
          "base_uri": "https://localhost:8080/"
        },
        "id": "10ea0d51",
        "outputId": "caeaed38-33a2-4f18-c7d6-e7a3bf44abfa"
      },
      "outputs": [
        {
          "output_type": "stream",
          "name": "stdout",
          "text": [
            "{1, 2, 3, 4, 5}\n"
          ]
        }
      ],
      "source": [
        "# 19. Find the union of two sets {1, 2, 3} and {3, 4, 5}\n",
        "s1 = {1, 2, 3}\n",
        "s2 = {3, 4, 5}\n",
        "print(s1.union(s2))"
      ]
    },
    {
      "cell_type": "code",
      "execution_count": null,
      "id": "de55f9e7",
      "metadata": {
        "colab": {
          "base_uri": "https://localhost:8080/"
        },
        "id": "de55f9e7",
        "outputId": "593a6d0f-516a-4f03-e5a6-40f6c6f6079d"
      },
      "outputs": [
        {
          "output_type": "stream",
          "name": "stdout",
          "text": [
            "{2, 3}\n"
          ]
        }
      ],
      "source": [
        "# 20. Find the intersection of two sets {1, 2, 3} and {2, 3, 4}\n",
        "s1 = {1, 2, 3}\n",
        "s2 = {2, 3, 4}\n",
        "print(s1.intersection(s2))"
      ]
    },
    {
      "cell_type": "code",
      "execution_count": 2,
      "id": "3147f3ff",
      "metadata": {
        "colab": {
          "base_uri": "https://localhost:8080/"
        },
        "id": "3147f3ff",
        "outputId": "8ab9d17d-eaa9-40cd-ef1c-8c72c05cb981"
      },
      "outputs": [
        {
          "output_type": "stream",
          "name": "stdout",
          "text": [
            "{'name': 'Tushar', 'age': 22, 'city': 'Alwar'}\n"
          ]
        }
      ],
      "source": [
        "# 21. Create a dictionary with the keys \"name\", \"age\", and \"city\", and print it\n",
        "person = {\"name\": \"Tushar\", \"age\": 22, \"city\": \"Alwar\"}\n",
        "print(person)"
      ]
    },
    {
      "cell_type": "code",
      "execution_count": null,
      "id": "33212d6b",
      "metadata": {
        "colab": {
          "base_uri": "https://localhost:8080/"
        },
        "id": "33212d6b",
        "outputId": "9873c53a-4ee1-4a7d-dabf-7c4efd4e2faf"
      },
      "outputs": [
        {
          "output_type": "stream",
          "name": "stdout",
          "text": [
            "{'name': 'John', 'age': 25, 'country': 'USA'}\n"
          ]
        }
      ],
      "source": [
        "# 22. Add a new key-value pair \"country\": \"USA\" to the dictionary {'name': 'John', 'age': 25}\n",
        "person = {'name': 'John', 'age': 25}\n",
        "person[\"country\"] = \"USA\"\n",
        "print(person)"
      ]
    },
    {
      "cell_type": "code",
      "execution_count": 3,
      "id": "0b5a221a",
      "metadata": {
        "colab": {
          "base_uri": "https://localhost:8080/"
        },
        "id": "0b5a221a",
        "outputId": "cd32e52e-73fc-42cf-ac1e-81b33c221d95"
      },
      "outputs": [
        {
          "output_type": "stream",
          "name": "stdout",
          "text": [
            "Tushar\n"
          ]
        }
      ],
      "source": [
        "# 23. Access the value associated with the key \"name\"\n",
        "person = {'name': 'Tushar', 'age': 22}\n",
        "print(person[\"name\"])"
      ]
    },
    {
      "cell_type": "code",
      "execution_count": 4,
      "id": "cb59d36c",
      "metadata": {
        "colab": {
          "base_uri": "https://localhost:8080/"
        },
        "id": "cb59d36c",
        "outputId": "fca4098e-8bc5-4fb1-e1e4-fd0f14ce17fd"
      },
      "outputs": [
        {
          "output_type": "stream",
          "name": "stdout",
          "text": [
            "{'name': 'Tushar', 'city': 'Alwar'}\n"
          ]
        }
      ],
      "source": [
        "# 24. Remove the key \"age\" from the dictionary\n",
        "d = {'name': 'Tushar', 'age': 22, 'city': 'Alwar'}\n",
        "d.pop(\"age\")\n",
        "print(d)"
      ]
    },
    {
      "cell_type": "code",
      "execution_count": 5,
      "id": "9f37b33a",
      "metadata": {
        "colab": {
          "base_uri": "https://localhost:8080/"
        },
        "id": "9f37b33a",
        "outputId": "f38dc627-fa44-44f2-c9d2-005b28a59295"
      },
      "outputs": [
        {
          "output_type": "stream",
          "name": "stdout",
          "text": [
            "city exists in the dictionary\n"
          ]
        }
      ],
      "source": [
        "# 25. Check if the key \"city\" exists in the dictionary\n",
        "d = {'name': 'Tushar', 'age': 22, 'city': 'Alwar'}\n",
        "if \"city\" in d:\n",
        "    print(\"city exists in the dictionary\")\n",
        "else:\n",
        "    print(\"city does not exist in the dictionary\")"
      ]
    },
    {
      "cell_type": "code",
      "execution_count": null,
      "id": "bf05fa51",
      "metadata": {
        "colab": {
          "base_uri": "https://localhost:8080/"
        },
        "id": "bf05fa51",
        "outputId": "4aca1205-5a53-4cdb-e367-61f063554644"
      },
      "outputs": [
        {
          "output_type": "stream",
          "name": "stdout",
          "text": [
            "List: [1, 2, 3]\n",
            "Tuple: (4, 5, 6)\n",
            "Dictionary: {'a': 7, 'b': 8, 'c': 9}\n"
          ]
        }
      ],
      "source": [
        "# 26. Create a list, a tuple, and a dictionary, and print them all\n",
        "lst = [1, 2, 3]\n",
        "t = (4, 5, 6)\n",
        "d = {\"a\": 7, \"b\": 8, \"c\": 9}\n",
        "print(f\"List: {lst}\")\n",
        "print(f\"Tuple: {t}\")\n",
        "print(f\"Dictionary: {d}\")"
      ]
    },
    {
      "cell_type": "code",
      "execution_count": null,
      "id": "42b96811",
      "metadata": {
        "colab": {
          "base_uri": "https://localhost:8080/"
        },
        "id": "42b96811",
        "outputId": "dd1668e8-54b2-4e74-8eac-73a316715056"
      },
      "outputs": [
        {
          "output_type": "stream",
          "name": "stdout",
          "text": [
            "[46, 51, 71, 81, 91]\n"
          ]
        }
      ],
      "source": [
        "# 27. Create a list of 5 random numbers between 1 and 100, sort it, and print the result\n",
        "import random\n",
        "lst = random.sample(range(1, 101), 5)\n",
        "lst.sort()\n",
        "print(lst)"
      ]
    },
    {
      "cell_type": "code",
      "execution_count": null,
      "id": "2a71fd10",
      "metadata": {
        "colab": {
          "base_uri": "https://localhost:8080/"
        },
        "id": "2a71fd10",
        "outputId": "6854996b-5503-45b0-ebd7-4bbf11fdcc97"
      },
      "outputs": [
        {
          "output_type": "stream",
          "name": "stdout",
          "text": [
            "date\n"
          ]
        }
      ],
      "source": [
        "# 28. Create a list with strings and print the element at the third index\n",
        "strings = [\"apple\", \"banana\", \"cherry\", \"date\", \"fig\"]\n",
        "print(strings[3])"
      ]
    },
    {
      "cell_type": "code",
      "execution_count": null,
      "id": "3da847f1",
      "metadata": {
        "colab": {
          "base_uri": "https://localhost:8080/"
        },
        "id": "3da847f1",
        "outputId": "a58b8c08-fde1-4985-eb76-bd479293b732"
      },
      "outputs": [
        {
          "output_type": "stream",
          "name": "stdout",
          "text": [
            "{'a': 1, 'b': 2, 'c': 3, 'd': 4}\n"
          ]
        }
      ],
      "source": [
        "# 29. Combine two dictionaries into one and print the result\n",
        "dict1 = {\"a\": 1, \"b\": 2}\n",
        "dict2 = {\"c\": 3, \"d\": 4}\n",
        "combined = {**dict1, **dict2}\n",
        "print(combined)"
      ]
    },
    {
      "cell_type": "code",
      "execution_count": null,
      "id": "0db4ee42",
      "metadata": {
        "colab": {
          "base_uri": "https://localhost:8080/"
        },
        "id": "0db4ee42",
        "outputId": "b9c7ece9-9484-4445-d383-900be4fae306"
      },
      "outputs": [
        {
          "output_type": "stream",
          "name": "stdout",
          "text": [
            "{'banana', 'cherry', 'apple'}\n"
          ]
        }
      ],
      "source": [
        "# 30. Convert a list of strings into a set\n",
        "words = [\"apple\", \"banana\", \"apple\", \"cherry\"]\n",
        "print(set(words))"
      ]
    }
  ],
  "metadata": {
    "colab": {
      "provenance": []
    },
    "language_info": {
      "name": "python"
    },
    "kernelspec": {
      "name": "python3",
      "display_name": "Python 3"
    }
  },
  "nbformat": 4,
  "nbformat_minor": 5
}